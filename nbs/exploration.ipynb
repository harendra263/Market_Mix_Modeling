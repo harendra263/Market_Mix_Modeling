{
 "cells": [
  {
   "cell_type": "code",
   "execution_count": null,
   "id": "cb1ab7a1",
   "metadata": {},
   "outputs": [],
   "source": [
    "import pandas as pd\n",
    "import numpy as np\n",
    "import matplotlib.pyplot as plt\n",
    "import seaborn as sns\n",
    "\n",
    "from sklearn.model_selection import train_test_split\n",
    "import statsmodels.formula.api as sm"
   ]
  },
  {
   "cell_type": "code",
   "execution_count": null,
   "id": "83a363a4",
   "metadata": {},
   "outputs": [],
   "source": [
    "import pathlib\n",
    "import os"
   ]
  },
  {
   "cell_type": "code",
   "execution_count": null,
   "id": "771e9225",
   "metadata": {},
   "outputs": [],
   "source": [
    "BASE_DIR = pathlib.Path().resolve().parent\n",
    "DATASET_DIR = BASE_DIR / \"input\"\n",
    "DATASET_DIR.mkdir(exist_ok=True, parents=True)\n",
    "\n",
    "IMAGE_DIR = BASE_DIR / \"images\"\n",
    "IMAGE_DIR.mkdir(exist_ok=True, parents=True)"
   ]
  },
  {
   "cell_type": "code",
   "execution_count": null,
   "id": "352a8854",
   "metadata": {},
   "outputs": [],
   "source": [
    "INPUT_PATH = os.path.join(DATASET_DIR, \"Advertising.csv\")"
   ]
  },
  {
   "cell_type": "code",
   "execution_count": null,
   "id": "a8633f00",
   "metadata": {},
   "outputs": [],
   "source": [
    "df = pd.read_csv(INPUT_PATH, usecols= lambda x : x != \"Unnamed: 0\")\n",
    "df.sort_values(by=[\"sales\", \"TV\", \"radio\", \"newspaper\"], ascending=False)\n",
    "df.head()"
   ]
  },
  {
   "cell_type": "code",
   "execution_count": null,
   "id": "47dbf017",
   "metadata": {},
   "outputs": [],
   "source": [
    "plt.figure(figsize=(15, 8))\n",
    "df.sales.plot(marker='', markerfacecolor='blue', markersize=12, color='skyblue', linewidth=1.5, linestyle=\"dashed\")\n",
    "df.TV.plot(marker='', color='darkcyan', linewidth=2, linestyle=\"dashdot\")\n",
    "df.newspaper.plot(marker='', color='coral', linewidth=1.5, linestyle='dotted')\n",
    "df.radio.plot(marker='', color='red', linewidth=1.5, linestyle='solid')\n",
    "plt.legend()\n",
    "plt.savefig(os.path.join(IMAGE_DIR, \"Trends.png\"))"
   ]
  },
  {
   "cell_type": "code",
   "execution_count": null,
   "id": "bbdf17ca",
   "metadata": {},
   "outputs": [],
   "source": [
    "## Coorelation plot\n",
    "corr = df.corr()\n",
    "sns.heatmap(data=corr, xticklabels=corr.columns, yticklabels=corr.columns, \n",
    "            annot= True,\n",
    "            cmap=sns.diverging_palette(220, 20, as_cmap=True))\n",
    "\n",
    "plt.savefig(os.path.join(IMAGE_DIR, \"correlation.png\"))"
   ]
  },
  {
   "cell_type": "code",
   "execution_count": null,
   "id": "bba0cca5",
   "metadata": {},
   "outputs": [],
   "source": [
    "# Splitting the dataframe"
   ]
  },
  {
   "cell_type": "code",
   "execution_count": null,
   "id": "c4d2f6cb",
   "metadata": {},
   "outputs": [],
   "source": [
    "X = df.drop(\"sales\", axis=1)\n",
    "y = df.sales"
   ]
  },
  {
   "cell_type": "code",
   "execution_count": null,
   "id": "2a2ab103",
   "metadata": {},
   "outputs": [],
   "source": [
    "X_train, X_test, y_train, y_test = train_test_split(X, y, test_size=0.3, random_state=0)"
   ]
  },
  {
   "cell_type": "code",
   "execution_count": null,
   "id": "cddb61c9",
   "metadata": {},
   "outputs": [],
   "source": [
    "from sklearn.ensemble import RandomForestRegressor"
   ]
  },
  {
   "cell_type": "code",
   "execution_count": null,
   "id": "9a4f1662",
   "metadata": {},
   "outputs": [],
   "source": [
    "model = RandomForestRegressor(random_state=1)\n",
    "model.fit(X_train, y_train)\n",
    "pred = model.predict(X_test)"
   ]
  },
  {
   "cell_type": "code",
   "execution_count": null,
   "id": "cd11ac22",
   "metadata": {},
   "outputs": [],
   "source": [
    "feat_importance = pd.Series(model.feature_importances_, index= X.columns)\n",
    "feat_importance.plot(kind='barh', figsize=(15, 8), cmap='RdYlGn')\n",
    "plt.savefig(os.path.join(IMAGE_DIR, \"Feature_Importance.png\"))"
   ]
  },
  {
   "cell_type": "code",
   "execution_count": null,
   "id": "0c97b3f4",
   "metadata": {},
   "outputs": [],
   "source": []
  },
  {
   "cell_type": "code",
   "execution_count": null,
   "id": "bd8843b5",
   "metadata": {},
   "outputs": [],
   "source": []
  }
 ],
 "metadata": {
  "kernelspec": {
   "display_name": "Python 3 (ipykernel)",
   "language": "python",
   "name": "python3"
  },
  "language_info": {
   "codemirror_mode": {
    "name": "ipython",
    "version": 3
   },
   "file_extension": ".py",
   "mimetype": "text/x-python",
   "name": "python",
   "nbconvert_exporter": "python",
   "pygments_lexer": "ipython3",
   "version": "3.10.2"
  }
 },
 "nbformat": 4,
 "nbformat_minor": 5
}
